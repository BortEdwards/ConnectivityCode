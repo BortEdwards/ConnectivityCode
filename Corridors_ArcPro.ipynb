{
 "cells": [
  {
   "cell_type": "markdown",
   "id": "ad068a09",
   "metadata": {},
   "source": [
    "Created Tue Mar 29 13:27:47 2022 ; Last updated 08/17/2022\n",
    "\n",
    "@author: **Michelle M. Fink\n",
    "         Colorado Natural Heritage Program, Colorado State University**\n",
    "\n",
    "Purpose: Automate Least-Cost Corridor analysis using ArcPro arcpy\n",
    "\n",
    "----\n",
    "License: GNU General Public License version 3.\n",
    " This script is free software: you can redistribute it and/or modify\n",
    " it under the terms of the GNU General Public License as published by\n",
    " the Free Software Foundation, either version 3 of the License, or\n",
    " (at your option) any later version.\n",
    "\n",
    " This program is distributed in the hope that it will be useful,\n",
    " but WITHOUT ANY WARRANTY; without even the implied warranty of\n",
    " MERCHANTABILITY or FITNESS FOR A PARTICULAR PURPOSE.  See the\n",
    " GNU General Public License for more details.\n",
    "\n",
    " You should have received a copy of the GNU General Public License\n",
    " along with this program.  If not, see https://www.gnu.org/licenses/"
   ]
  },
  {
   "cell_type": "markdown",
   "id": "7fba1c58",
   "metadata": {},
   "source": [
    "# Set up"
   ]
  },
  {
   "cell_type": "code",
   "execution_count": 1,
   "id": "2c2d0097",
   "metadata": {},
   "outputs": [
    {
     "data": {
      "text/plain": [
       "'CheckedOut'"
      ]
     },
     "execution_count": 1,
     "metadata": {},
     "output_type": "execute_result"
    }
   ],
   "source": [
    "import os\n",
    "import numpy as np\n",
    "from osgeo import osr, gdal\n",
    "import arcpy\n",
    "from arcpy import env\n",
    "from arcpy import da\n",
    "from arcpy import sa\n",
    "arcpy.CheckOutExtension(\"Spatial\")"
   ]
  },
  {
   "cell_type": "markdown",
   "id": "4f268467",
   "metadata": {},
   "source": [
    "## environment and variables"
   ]
  },
  {
   "cell_type": "code",
   "execution_count": 4,
   "id": "0d3afedb",
   "metadata": {},
   "outputs": [],
   "source": [
    "#Set environments\n",
    "strWorkspace = r\"M:\\GIS_Projects\\JeffCo\"\n",
    "env.workspace = strWorkspace\n",
    "env.scratchWorkspace = r\"M:\\GIS_Projects\\JeffCo\\Default.gdb\"\n",
    "permRas = r\"M:\\GIS_Projects\\JeffCo\\JC_perm_macro3.tif\" #permeability raster\n",
    "env.snapRaster = permRas\n",
    "env.extent = permRas\n",
    "env.overwriteOutput = True\n",
    "env.cellSize = \"MINOF\"\n",
    "env.compression = \"LZW\"\n",
    "env.pyramid = \"NONE\"\n",
    "env.rasterStatistics = \"STATISTICS 1 1\"\n",
    "env.parallelProcessingFactor = \"100%\"\n",
    "env.resamplingMethod = \"BILINEAR\"\n",
    "\n",
    "#Set parameters\n",
    "usestones = True #stones need to be in the fromCores and/or toCores shapefile with attribute \"Patch\" == 'step'\n",
    "costname = os.path.join(strWorkspace, \"JC_cost_macro3.tif\")\n",
    "#Cores are expected to be polygon shapefiles with attributes \"CoreID\", \"ToID\", \"Patch\" (\"Patch\" == 'core')\n",
    "fromCores = r\"M:\\GIS_Projects\\JeffCo\\from_cores.shp\"\n",
    "toCores = r\"M:\\GIS_Projects\\JeffCo\\toCores_and_steps.shp\"\n",
    "elevRas = r\"M:\\GIS_Projects\\JeffCo\\JeffCo_10mNED_utm.tif\"\n",
    "vf = \"VF.txt\" #Vertical factor for least-cost analysis\n",
    "spp = \"MVerts\"\n",
    "maxdist = 60000"
   ]
  },
  {
   "cell_type": "markdown",
   "id": "14ca0064",
   "metadata": {},
   "source": [
    "**A Note on maximum distance**  \n",
    "A maximum distance (`maxdist`) of 60 cost-distance km was initially used, based on seasonal movement estimates for elk[^1]. No corridors from urban parcels were possible with this maximum distance, however, so an additional run was made with `maxdist = 200000`.  \n",
    "\n",
    "**Vertical Factor**  \n",
    "Contents of the file, VF.txt:  \n",
    "\n",
    "|   .    |   .    |\n",
    "| ------ | ------ |\n",
    "| -90 | -1 |\n",
    "| -80 | 0.2 |\n",
    "| -70 | 0.3 |\n",
    "| -60 | 0.4 |\n",
    "| -50 | 0.5 |\n",
    "| -40 | 0.6 |\n",
    "| -30 | 0.7 |\n",
    "| -20 | 0.8 |\n",
    "| -10 | 0.9 |\n",
    "| 0 | 1 |\n",
    "| 10 | 1 |\n",
    "| 20 | 1 |\n",
    "| 30 | 1 |\n",
    "| 40 | 1 |\n",
    "| 50 | 1 |\n",
    "| 60 | 1 |\n",
    "| 70 | 1 |\n",
    "| 80 | 1 |\n",
    "| 90 | -1 |\n"
   ]
  },
  {
   "cell_type": "markdown",
   "id": "8d8a45e1",
   "metadata": {},
   "source": [
    "## Functions"
   ]
  },
  {
   "cell_type": "code",
   "execution_count": 5,
   "id": "b8f1a4c8",
   "metadata": {},
   "outputs": [],
   "source": [
    "def raster2array(ras_name):\n",
    "    \"\"\"\n",
    "    Convert a geoTIFF to a 2D numpy array.\n",
    "    You could also do this with arcpy.RasterToNumPyArray\n",
    "    ras_name: string, path/name of raster\n",
    "    \"\"\"\n",
    "    ras_tif = gdal.Open(ras_name)\n",
    "    ras_band = ras_tif.GetRasterBand(1)\n",
    "    ras_data = ras_band.ReadAsArray()\n",
    "    ras_tif = None\n",
    "    ras_ary = ras_data\n",
    "    return ras_ary\n",
    "\n",
    "def perm_to_cost(perm, stones=None):\n",
    "    \"\"\"\n",
    "    Convert a 0-10 Permeability raster into a Cost raster\n",
    "    perm: string, path/name of permeability raster\n",
    "    stones: string, path/name of stepping-stone raster, if any\n",
    "    \"\"\"\n",
    "    if stones is None:\n",
    "        cost = (sa.Raster(perm) / 10) ** -2\n",
    "    else:\n",
    "        rvsdperm = sa.Con(sa.IsNull(stones), sa.Raster(perm), sa.Raster(perm) + 1)\n",
    "        cost = (rvsdperm / 10) ** -2\n",
    "    return cost\n",
    "\n",
    "def tryslice(rasCorridor):\n",
    "    \"\"\"\n",
    "    Equation to use to attempt to auto-delimit least-cost corridors\n",
    "    rasCorridor: string, path/name of generated cost accumulation raster\n",
    "    \"\"\"\n",
    "    ary = raster2array(rasCorridor)\n",
    "    mskary = np.ma.masked_less_equal(ary, 0)\n",
    "    arymin = np.ma.min(mskary)\n",
    "    cor1 = (1.0195 * arymin) + 114.44\n",
    "    cor0 = cor1 - 200\n",
    "    cor2 = cor1 + 200\n",
    "\n",
    "    print(\"Minimum: \" + str(arymin))\n",
    "    print([cor0, cor1, cor2])\n",
    "    return [cor0, cor1, cor2]\n",
    "\n",
    "def create_corridors(fromRas, toRas, species, maxdist):\n",
    "    \"\"\"\n",
    "    Get unique pairs of Cores and generate corridors for each pair\n",
    "    fromRas: string, path/name of the originating Core areas raster\n",
    "    toRas: string, path/name of the destination Core areas raster\n",
    "    species: string, name to use as prefix of generated corridor files\n",
    "    maxdist: integer, maximum distance to use, in cost-meters\n",
    "    \"\"\"\n",
    "    corID = \"_to\".join([os.path.basename(fromRas).strip(species+\".tif\"), \n",
    "                         os.path.basename(toRas).strip(species+\".tif\")])\n",
    "    outName1 = species + \"_Accum\" + corID + \".tif\"\n",
    "    outName2 = species + \"_Corridors\" + corID + \".tif\"\n",
    "    if os.path.isfile(os.path.join(strWorkspace, outName1)):\n",
    "        accumRas = sa.Raster(os.path.join(strWorkspace, outName1))\n",
    "    else:\n",
    "        accumRas = sa.Raster(fromRas) + sa.Raster(toRas)\n",
    "        outRas1 = sa.Con(accumRas <= maxdist, accumRas, 0)\n",
    "        outRas1.save(os.path.join(strWorkspace, outName1))\n",
    "        \n",
    "    print(\"    \" + outName1 + \" saved\")\n",
    "    thresh = tryslice(os.path.join(strWorkspace, outName1))\n",
    "    try:\n",
    "        outRas2 = sa.Con((accumRas > 0) & (accumRas <= thresh[0]), 0,\n",
    "                         sa.Con((accumRas > thresh[0]) & (accumRas <= thresh[1]), 1,\n",
    "                                sa.Con((accumRas > thresh[1]) & (accumRas <= thresh[2]), 2)))\n",
    "        outRas2.save(os.path.join(strWorkspace, outName2))\n",
    "        print(\"    \" + outName2 + \" saved\")\n",
    "        \n",
    "    except TypeError:\n",
    "        print(\"Cannot create \" + outName2)"
   ]
  },
  {
   "cell_type": "markdown",
   "id": "43432983",
   "metadata": {},
   "source": [
    "**A Note on the tryslice equation**  \n",
    "This equation is based on research by the author of the relationship between the minimum value present in the least-cost accumulation raster and the value threshold needed to create a truly least-cost corridor. No single set of parameters works in all situations, unfortunately, but this was the optimal equation for this project.  \n",
    "\n",
    "![Corridor Equation](file:///M:/GIS_Projects/JeffCo/CorridorEquation.png)"
   ]
  },
  {
   "cell_type": "markdown",
   "id": "5ee32046",
   "metadata": {},
   "source": [
    "# Main"
   ]
  },
  {
   "cell_type": "code",
   "execution_count": 6,
   "id": "a2895386",
   "metadata": {},
   "outputs": [
    {
     "name": "stdout",
     "output_type": "stream",
     "text": [
      "Make Stepping Stone raster\n",
      "Found cost layer, using M:\\GIS_Projects\\JeffCo\\JC_cost_macro3.tif\n"
     ]
    }
   ],
   "source": [
    "arcpy.MakeFeatureLayer_management(fromCores, \"from_core\")\n",
    "arcpy.MakeFeatureLayer_management(toCores, \"to_core\")\n",
    "\n",
    "if usestones:\n",
    "    if not os.path.isfile(os.path.join(strWorkspace, \"stoneRas.tif\")):\n",
    "        print(\"Make Stepping Stone raster\")\n",
    "        fromsteps = arcpy.SelectLayerByAttribute_management(\"from_core\", \"NEW_SELECTION\", \"Patch = 'step'\")\n",
    "        tosteps = arcpy.SelectLayerByAttribute_management(\"to_core\", \"NEW_SELECTION\", \"Patch = 'step'\")\n",
    "        arcpy.Merge_management([fromsteps, tosteps], \"tempstone\")\n",
    "        arcpy.conversion.FeatureToRaster(\"tempstone\", \"Patch\", \"stoneRas.tif\", cell_size=10)\n",
    "    stone = \"stoneRas.tif\"\n",
    "else:\n",
    "    stone = None\n",
    "    \n",
    "if os.path.isfile(costname):\n",
    "    print(\"Found cost layer, using \" + costname)\n",
    "    costRas = costname\n",
    "else:\n",
    "    print(\"Converting Permeability to Cost\")\n",
    "    costRas = perm_to_cost(permRas, stones=stone)\n",
    "    costRas.save(costname)"
   ]
  },
  {
   "cell_type": "code",
   "execution_count": 7,
   "id": "ea3417a2",
   "metadata": {},
   "outputs": [
    {
     "name": "stdout",
     "output_type": "stream",
     "text": [
      "On to all the Path Distances\n",
      "    Creating Path Distance for 606to609\n",
      "Now making Corridors\n",
      "    MVerts_Accum_PD_606_to_PD_609.tif saved\n",
      "Minimum: 2550.8079\n",
      "[2514.9886146240237, 2714.9886146240237, 2914.9886146240237]\n",
      "    MVerts_Corridors_PD_606_to_PD_609.tif saved\n",
      "    Creating Path Distance for 434to61\n",
      "Now making Corridors\n",
      "    MVerts_Accum_PD_434_to_PD_61.tif saved\n",
      "Minimum: 12178.777\n",
      "[12330.703501953127, 12530.703501953127, 12730.703501953127]\n",
      "    MVerts_Corridors_PD_434_to_PD_61.tif saved\n",
      "    Creating Path Distance for 445to434\n",
      "Now making Corridors\n",
      "    MVerts_Accum_PD_445_to_PD_434.tif saved\n",
      "Minimum: 2188.023\n",
      "[2145.129396728516, 2345.129396728516, 2545.129396728516]\n",
      "    MVerts_Corridors_PD_445_to_PD_434.tif saved\n",
      "    Creating Path Distance for 510to7\n",
      "Now making Corridors\n",
      "    MVerts_Accum_PD_510_to_PD_7.tif saved\n",
      "Minimum: 4042.4353\n",
      "[4035.7027911376954, 4235.702791137695, 4435.702791137695]\n",
      "    MVerts_Corridors_PD_510_to_PD_7.tif saved\n",
      "    Creating Path Distance for 515to46478\n",
      "Now making Corridors\n",
      "    MVerts_Accum_PD_515_to_PD_46478.tif saved\n",
      "Minimum: 1248.6025\n",
      "[1187.3902885742189, 1387.3902885742189, 1587.3902885742189]\n",
      "    MVerts_Corridors_PD_515_to_PD_46478.tif saved\n",
      "    Creating Path Distance for 522to42\n",
      "Now making Corridors\n",
      "    MVerts_Accum_PD_522_to_PD_42.tif saved\n",
      "Minimum: 16763.078\n",
      "[17004.3981484375, 17204.3981484375, 17404.3981484375]\n",
      "    MVerts_Corridors_PD_522_to_PD_42.tif saved\n"
     ]
    }
   ],
   "source": [
    "#Iterate through core areas and get corridors for each\n",
    "print(\"On to all the Path Distances\")\n",
    "\n",
    "arcpy.MakeTableView_management(fromCores, \"from_tbl\")\n",
    "\n",
    "with da.SearchCursor(\"from_tbl\", [\"CoreID\", \"ToID\"]) as curSrch:\n",
    "    for row in curSrch:\n",
    "        #make a Path Distance raster from each Core\n",
    "        valstr = str(row[0])\n",
    "        constr = str(row[1])\n",
    "        print(\"    Creating Path Distance for \" + valstr + \"to\" + constr)\n",
    "        fromRas = \"_\".join([spp, \"PD\", valstr])\n",
    "        fromRas = os.path.join(strWorkspace, fromRas + \".tif\")\n",
    "        if not os.path.isfile(fromRas):\n",
    "            frmCore = arcpy.SelectLayerByAttribute_management(\"from_core\", \"NEW_SELECTION\", \"CoreID = \" + valstr)\n",
    "            frmDist = sa.PathDistance(frmCore, costRas, elevRas, \"#\", \"#\", elevRas,\n",
    "                      sa.VfTable(os.path.join(strWorkspace, vf)))\n",
    "            frmDist.save(fromRas)\n",
    "\n",
    "        toRas = \"_\".join([spp, \"PD\", constr])\n",
    "        toRas = os.path.join(strWorkspace, toRas + \".tif\")\n",
    "        if not os.path.isfile(toRas):\n",
    "            toCore = arcpy.SelectLayerByAttribute_management(\"to_core\", \"NEW_SELECTION\", \"CoreID = \" + constr)\n",
    "            toDist = sa.PathDistance(toCore, costRas, elevRas, \"#\", \"#\", elevRas,\n",
    "                                     sa.VfTable(os.path.join(strWorkspace, vf)))\n",
    "            toDist.save(toRas)\n",
    "\n",
    "        #Get something vaguely like corridors\n",
    "        print(\"Now making Corridors\")\n",
    "        create_corridors(fromRas, toRas, spp, maxdist)"
   ]
  },
  {
   "cell_type": "markdown",
   "id": "c9c6f54d",
   "metadata": {},
   "source": [
    "## Clean-up"
   ]
  },
  {
   "cell_type": "code",
   "execution_count": 8,
   "id": "f16898e8",
   "metadata": {},
   "outputs": [
    {
     "name": "stdout",
     "output_type": "stream",
     "text": [
      "Totes finished\n"
     ]
    }
   ],
   "source": [
    "del curSrch\n",
    "arcpy.SetLogHistory(True)\n",
    "arcpy.CheckInExtension(\"Spatial\")"
   ]
  },
  {
   "cell_type": "markdown",
   "id": "1ad48fe6",
   "metadata": {},
   "source": [
    "[^1]: Armstrong, D.M., J.P. Fitzgerald, and C.A. Meaney. 2011. Mammals of Colorado, 2nd edition. Denver Museum of Nature and Science and University Press of Colorado, Boulder, CO."
   ]
  },
  {
   "cell_type": "code",
   "execution_count": null,
   "id": "a39cae38",
   "metadata": {},
   "outputs": [],
   "source": []
  }
 ],
 "metadata": {
  "kernelspec": {
   "display_name": "Python 3",
   "language": "python",
   "name": "python3"
  },
  "language_info": {
   "codemirror_mode": {
    "name": "ipython",
    "version": 3
   },
   "file_extension": ".py",
   "mimetype": "text/x-python",
   "name": "python",
   "nbconvert_exporter": "python",
   "pygments_lexer": "ipython3",
   "version": "3.9.11"
  },
  "varInspector": {
   "cols": {
    "lenName": 16,
    "lenType": 16,
    "lenVar": 40
   },
   "kernels_config": {
    "python": {
     "delete_cmd_postfix": "",
     "delete_cmd_prefix": "del ",
     "library": "var_list.py",
     "varRefreshCmd": "print(var_dic_list())"
    },
    "r": {
     "delete_cmd_postfix": ") ",
     "delete_cmd_prefix": "rm(",
     "library": "var_list.r",
     "varRefreshCmd": "cat(var_dic_list()) "
    }
   },
   "types_to_exclude": [
    "module",
    "function",
    "builtin_function_or_method",
    "instance",
    "_Feature"
   ],
   "window_display": false
  }
 },
 "nbformat": 4,
 "nbformat_minor": 5
}
